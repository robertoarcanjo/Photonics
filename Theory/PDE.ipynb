{
 "cells": [
  {
   "cell_type": "markdown",
   "id": "5dd48158",
   "metadata": {},
   "source": [
    "# Partial Diferential Equations\n",
    "\n",
    "[Partial Diferential Equations - Summary](../Notes/EDP.pdf)"
   ]
  },
  {
   "cell_type": "markdown",
   "id": "41de16eb",
   "metadata": {},
   "source": []
  }
 ],
 "metadata": {
  "language_info": {
   "name": "python"
  }
 },
 "nbformat": 4,
 "nbformat_minor": 5
}
