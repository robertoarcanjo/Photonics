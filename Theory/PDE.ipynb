{
 "cells": [
  {
   "cell_type": "markdown",
   "id": "5dd48158",
   "metadata": {},
   "source": [
    "# Partial Diferential Equations\n",
    "\n",
    "[Partial Diferential Equations - Summary](../Notes/Phase_plane_Summary.pdf)"
   ]
  },
  {
   "cell_type": "markdown",
   "id": "41de16eb",
   "metadata": {},
   "source": []
  }
 ],
 "metadata": {
  "language_info": {
   "name": "python"
  }
 },
 "nbformat": 4,
 "nbformat_minor": 5
}
