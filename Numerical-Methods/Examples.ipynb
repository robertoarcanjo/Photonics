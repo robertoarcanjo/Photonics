{
 "cells": [
  {
   "cell_type": "markdown",
   "id": "d9447038",
   "metadata": {},
   "source": [
    "# Review of Diferential Equations and Numerical Methods\n",
    "\n",
    "### Week 1\n",
    "\n",
    "Solve:\n",
    "\n",
    "$\\frac{d}{dx}y(x) + y(x) = \\sin \\pi x$\n",
    "\n"
   ]
  },
  {
   "cell_type": "code",
   "execution_count": null,
   "id": "52ceaad7",
   "metadata": {},
   "outputs": [],
   "source": []
  },
  {
   "cell_type": "markdown",
   "id": "245f3a3f",
   "metadata": {},
   "source": [
    "### Week 2\n",
    "\n",
    "\n",
    "### Week 3\n",
    "\n",
    "\n",
    "### Week 4"
   ]
  },
  {
   "cell_type": "markdown",
   "id": "393413d7",
   "metadata": {},
   "source": []
  }
 ],
 "metadata": {
  "language_info": {
   "name": "python"
  }
 },
 "nbformat": 4,
 "nbformat_minor": 5
}
